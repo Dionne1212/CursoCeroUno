{
 "cells": [
  {
   "cell_type": "markdown",
   "metadata": {},
   "source": [
    "#Technical Interview"
   ]
  },
  {
   "cell_type": "markdown",
   "metadata": {},
   "source": [
    "# Examen final del Curso 30.01\n",
    "##Base de datos con registros de accidentes de tránsito en Monterrey y su área Metropolitana."
   ]
  },
  {
   "cell_type": "code",
   "execution_count": 1,
   "metadata": {},
   "outputs": [],
   "source": [
    "#El primer paso es importar las librerías\n",
    "import numpy as np\n",
    "import pandas as pd\n",
    "import matplotlib.pyplot as plt"
   ]
  },
  {
   "cell_type": "code",
   "execution_count": 2,
   "metadata": {},
   "outputs": [
    {
     "name": "stderr",
     "output_type": "stream",
     "text": [
      "/Users/Gilberto/Downloads/anaconda3/lib/python3.7/site-packages/IPython/core/interactiveshell.py:2785: DtypeWarning: Columns (9,12,13,16,21,28,32,33,34,35,36,37,40,41,42,43,44,45,46,49) have mixed types. Specify dtype option on import or set low_memory=False.\n",
      "  interactivity=interactivity, compiler=compiler, result=result)\n"
     ]
    }
   ],
   "source": [
    "tabla=pd.read_csv('data.csv')"
   ]
  },
  {
   "cell_type": "code",
   "execution_count": 3,
   "metadata": {},
   "outputs": [
    {
     "data": {
      "text/html": [
       "<div>\n",
       "<style scoped>\n",
       "    .dataframe tbody tr th:only-of-type {\n",
       "        vertical-align: middle;\n",
       "    }\n",
       "\n",
       "    .dataframe tbody tr th {\n",
       "        vertical-align: top;\n",
       "    }\n",
       "\n",
       "    .dataframe thead th {\n",
       "        text-align: right;\n",
       "    }\n",
       "</style>\n",
       "<table border=\"1\" class=\"dataframe\">\n",
       "  <thead>\n",
       "    <tr style=\"text-align: right;\">\n",
       "      <th></th>\n",
       "      <th>Column</th>\n",
       "      <th>Calle</th>\n",
       "      <th>Causa</th>\n",
       "      <th>Ciudad</th>\n",
       "      <th>Cruce</th>\n",
       "      <th>Fecha</th>\n",
       "      <th>Hora</th>\n",
       "      <th>ID</th>\n",
       "      <th>Latitud</th>\n",
       "      <th>Lesionados</th>\n",
       "      <th>...</th>\n",
       "      <th>V2_Uso de Cinturón</th>\n",
       "      <th>V3_Arresto</th>\n",
       "      <th>V3_Dictamen</th>\n",
       "      <th>V3_Edad</th>\n",
       "      <th>V3_Estatus Licencia</th>\n",
       "      <th>V3_Género</th>\n",
       "      <th>V3_No. De Fallecidos</th>\n",
       "      <th>V3_No. De Lesionados</th>\n",
       "      <th>V3_Tipo de Vehículo</th>\n",
       "      <th>V3_Uso de Cinturón</th>\n",
       "    </tr>\n",
       "  </thead>\n",
       "  <tbody>\n",
       "    <tr>\n",
       "      <th>0</th>\n",
       "      <td>0</td>\n",
       "      <td>CAMINO REAL</td>\n",
       "      <td>NO RESPETAR SEÑALAMIENTOS</td>\n",
       "      <td>Monterrey</td>\n",
       "      <td>SANTOS  PALOMO</td>\n",
       "      <td>2016-05-01 00:00:00</td>\n",
       "      <td>1899-12-30 00:00:00</td>\n",
       "      <td>MTY1</td>\n",
       "      <td>25.77443</td>\n",
       "      <td>No</td>\n",
       "      <td>...</td>\n",
       "      <td>NaN</td>\n",
       "      <td>NaN</td>\n",
       "      <td>NaN</td>\n",
       "      <td>NaN</td>\n",
       "      <td>NaN</td>\n",
       "      <td>NaN</td>\n",
       "      <td>NaN</td>\n",
       "      <td>NaN</td>\n",
       "      <td>NaN</td>\n",
       "      <td>NaN</td>\n",
       "    </tr>\n",
       "    <tr>\n",
       "      <th>1</th>\n",
       "      <td>1</td>\n",
       "      <td>BERNARDO REYES</td>\n",
       "      <td>Otros</td>\n",
       "      <td>Monterrey</td>\n",
       "      <td>FIDEL VELAZQUEZ</td>\n",
       "      <td>2016-05-01 00:00:00</td>\n",
       "      <td>1899-12-30 00:00:00</td>\n",
       "      <td>MTY10</td>\n",
       "      <td>25.724161</td>\n",
       "      <td>No</td>\n",
       "      <td>...</td>\n",
       "      <td>NaN</td>\n",
       "      <td>NaN</td>\n",
       "      <td>NaN</td>\n",
       "      <td>NaN</td>\n",
       "      <td>NaN</td>\n",
       "      <td>NaN</td>\n",
       "      <td>NaN</td>\n",
       "      <td>NaN</td>\n",
       "      <td>NaN</td>\n",
       "      <td>NaN</td>\n",
       "    </tr>\n",
       "    <tr>\n",
       "      <th>2</th>\n",
       "      <td>2</td>\n",
       "      <td>BERNARDO REYES</td>\n",
       "      <td>Otros</td>\n",
       "      <td>Monterrey</td>\n",
       "      <td>REFORMA</td>\n",
       "      <td>2016-05-01 00:00:00</td>\n",
       "      <td>1899-12-30 00:00:00</td>\n",
       "      <td>MTY11</td>\n",
       "      <td>25.685874</td>\n",
       "      <td>No</td>\n",
       "      <td>...</td>\n",
       "      <td>NaN</td>\n",
       "      <td>NaN</td>\n",
       "      <td>NaN</td>\n",
       "      <td>NaN</td>\n",
       "      <td>NaN</td>\n",
       "      <td>NaN</td>\n",
       "      <td>NaN</td>\n",
       "      <td>NaN</td>\n",
       "      <td>NaN</td>\n",
       "      <td>NaN</td>\n",
       "    </tr>\n",
       "    <tr>\n",
       "      <th>3</th>\n",
       "      <td>3</td>\n",
       "      <td>LINCOLN</td>\n",
       "      <td>INVADIR CARRIL</td>\n",
       "      <td>Monterrey</td>\n",
       "      <td>CUMBRES DEL SOL</td>\n",
       "      <td>2016-05-01 00:00:00</td>\n",
       "      <td>1899-12-30 00:00:00</td>\n",
       "      <td>MTY12</td>\n",
       "      <td>25.797401</td>\n",
       "      <td>No</td>\n",
       "      <td>...</td>\n",
       "      <td>NaN</td>\n",
       "      <td>NaN</td>\n",
       "      <td>NaN</td>\n",
       "      <td>NaN</td>\n",
       "      <td>NaN</td>\n",
       "      <td>NaN</td>\n",
       "      <td>NaN</td>\n",
       "      <td>NaN</td>\n",
       "      <td>NaN</td>\n",
       "      <td>NaN</td>\n",
       "    </tr>\n",
       "    <tr>\n",
       "      <th>4</th>\n",
       "      <td>4</td>\n",
       "      <td>MADERO</td>\n",
       "      <td>NO GUARDAR DISTANCIA</td>\n",
       "      <td>Monterrey</td>\n",
       "      <td>PABLO A DE LA GARZA</td>\n",
       "      <td>2016-05-01 00:00:00</td>\n",
       "      <td>1899-12-30 00:00:00</td>\n",
       "      <td>MTY13</td>\n",
       "      <td>25.682219</td>\n",
       "      <td>No</td>\n",
       "      <td>...</td>\n",
       "      <td>NaN</td>\n",
       "      <td>NaN</td>\n",
       "      <td>NaN</td>\n",
       "      <td>NaN</td>\n",
       "      <td>NaN</td>\n",
       "      <td>NaN</td>\n",
       "      <td>NaN</td>\n",
       "      <td>NaN</td>\n",
       "      <td>NaN</td>\n",
       "      <td>NaN</td>\n",
       "    </tr>\n",
       "    <tr>\n",
       "      <th>5</th>\n",
       "      <td>5</td>\n",
       "      <td>REVOLUCION</td>\n",
       "      <td>No Respetó Semáforo</td>\n",
       "      <td>Monterrey</td>\n",
       "      <td>PROLONG. ALFONSO REYES</td>\n",
       "      <td>2016-05-01 00:00:00</td>\n",
       "      <td>1899-12-30 00:00:00</td>\n",
       "      <td>MTY14</td>\n",
       "      <td>25.643311</td>\n",
       "      <td>No</td>\n",
       "      <td>...</td>\n",
       "      <td>NaN</td>\n",
       "      <td>NaN</td>\n",
       "      <td>NaN</td>\n",
       "      <td>NaN</td>\n",
       "      <td>NaN</td>\n",
       "      <td>NaN</td>\n",
       "      <td>NaN</td>\n",
       "      <td>NaN</td>\n",
       "      <td>NaN</td>\n",
       "      <td>NaN</td>\n",
       "    </tr>\n",
       "  </tbody>\n",
       "</table>\n",
       "<p>6 rows × 50 columns</p>\n",
       "</div>"
      ],
      "text/plain": [
       "   Column           Calle                      Causa     Ciudad  \\\n",
       "0       0     CAMINO REAL  NO RESPETAR SEÑALAMIENTOS  Monterrey   \n",
       "1       1  BERNARDO REYES                      Otros  Monterrey   \n",
       "2       2  BERNARDO REYES                      Otros  Monterrey   \n",
       "3       3         LINCOLN             INVADIR CARRIL  Monterrey   \n",
       "4       4          MADERO       NO GUARDAR DISTANCIA  Monterrey   \n",
       "5       5      REVOLUCION        No Respetó Semáforo  Monterrey   \n",
       "\n",
       "                    Cruce                Fecha                 Hora     ID  \\\n",
       "0          SANTOS  PALOMO  2016-05-01 00:00:00  1899-12-30 00:00:00   MTY1   \n",
       "1         FIDEL VELAZQUEZ  2016-05-01 00:00:00  1899-12-30 00:00:00  MTY10   \n",
       "2                 REFORMA  2016-05-01 00:00:00  1899-12-30 00:00:00  MTY11   \n",
       "3         CUMBRES DEL SOL  2016-05-01 00:00:00  1899-12-30 00:00:00  MTY12   \n",
       "4     PABLO A DE LA GARZA  2016-05-01 00:00:00  1899-12-30 00:00:00  MTY13   \n",
       "5  PROLONG. ALFONSO REYES  2016-05-01 00:00:00  1899-12-30 00:00:00  MTY14   \n",
       "\n",
       "     Latitud Lesionados        ...         V2_Uso de Cinturón V3_Arresto  \\\n",
       "0   25.77443         No        ...                        NaN        NaN   \n",
       "1  25.724161         No        ...                        NaN        NaN   \n",
       "2  25.685874         No        ...                        NaN        NaN   \n",
       "3  25.797401         No        ...                        NaN        NaN   \n",
       "4  25.682219         No        ...                        NaN        NaN   \n",
       "5  25.643311         No        ...                        NaN        NaN   \n",
       "\n",
       "  V3_Dictamen V3_Edad  V3_Estatus Licencia  V3_Género V3_No. De Fallecidos  \\\n",
       "0         NaN     NaN                  NaN        NaN                  NaN   \n",
       "1         NaN     NaN                  NaN        NaN                  NaN   \n",
       "2         NaN     NaN                  NaN        NaN                  NaN   \n",
       "3         NaN     NaN                  NaN        NaN                  NaN   \n",
       "4         NaN     NaN                  NaN        NaN                  NaN   \n",
       "5         NaN     NaN                  NaN        NaN                  NaN   \n",
       "\n",
       "  V3_No. De Lesionados V3_Tipo de Vehículo V3_Uso de Cinturón  \n",
       "0                  NaN                 NaN                NaN  \n",
       "1                  NaN                 NaN                NaN  \n",
       "2                  NaN                 NaN                NaN  \n",
       "3                  NaN                 NaN                NaN  \n",
       "4                  NaN                 NaN                NaN  \n",
       "5                  NaN                 NaN                NaN  \n",
       "\n",
       "[6 rows x 50 columns]"
      ]
     },
     "execution_count": 3,
     "metadata": {},
     "output_type": "execute_result"
    }
   ],
   "source": [
    "tabla.head(6)"
   ]
  },
  {
   "cell_type": "markdown",
   "metadata": {},
   "source": [
    "#Quiero ver los nombres de las columnas"
   ]
  },
  {
   "cell_type": "code",
   "execution_count": 4,
   "metadata": {},
   "outputs": [
    {
     "data": {
      "text/plain": [
       "['Column',\n",
       " 'Calle',\n",
       " 'Causa',\n",
       " 'Ciudad',\n",
       " 'Cruce',\n",
       " 'Fecha',\n",
       " 'Hora',\n",
       " 'ID',\n",
       " 'Latitud',\n",
       " 'Lesionados',\n",
       " 'Longitud',\n",
       " 'Mes',\n",
       " 'Muertos',\n",
       " 'No. De Infracción',\n",
       " 'Número  total de lesionados',\n",
       " 'Número total de muertos',\n",
       " 'Por alcohol',\n",
       " 'Sentido',\n",
       " 'Situación climática',\n",
       " 'Situación del Pavimento',\n",
       " 'Tipo de incidente',\n",
       " 'Tipo de involucrado',\n",
       " 'Tipo de vía',\n",
       " 'V1_Arresto',\n",
       " 'V1_Dictamen',\n",
       " 'V1_Edad',\n",
       " 'V1_Estatus Licencia',\n",
       " 'V1_Género',\n",
       " 'V1_No. De Fallecidos',\n",
       " 'V1_No. De Lesionados',\n",
       " 'V1_Tipo de Vehículo',\n",
       " 'V1_Uso de Cinturón',\n",
       " 'V2_Arresto',\n",
       " 'V2_Dictamen',\n",
       " 'V2_Edad',\n",
       " 'V2_Estatus Licencia',\n",
       " 'V2_Género',\n",
       " 'V2_No. De Fallecidos',\n",
       " 'V2_No. De Lesionados',\n",
       " 'V2_Tipo de Vehículo',\n",
       " 'V2_Uso de Cinturón',\n",
       " 'V3_Arresto',\n",
       " 'V3_Dictamen',\n",
       " 'V3_Edad',\n",
       " 'V3_Estatus Licencia',\n",
       " 'V3_Género',\n",
       " 'V3_No. De Fallecidos',\n",
       " 'V3_No. De Lesionados',\n",
       " 'V3_Tipo de Vehículo',\n",
       " 'V3_Uso de Cinturón']"
      ]
     },
     "execution_count": 4,
     "metadata": {},
     "output_type": "execute_result"
    }
   ],
   "source": [
    "list(tabla.columns.values)"
   ]
  },
  {
   "cell_type": "code",
   "execution_count": 5,
   "metadata": {},
   "outputs": [
    {
     "data": {
      "text/plain": [
       "count     19271\n",
       "unique       10\n",
       "top          No\n",
       "freq      12432\n",
       "Name: Por alcohol, dtype: object"
      ]
     },
     "execution_count": 5,
     "metadata": {},
     "output_type": "execute_result"
    }
   ],
   "source": [
    "tabla['Por alcohol'].describe()"
   ]
  },
  {
   "cell_type": "markdown",
   "metadata": {},
   "source": [
    "#En la celda de arriba conté el número de registros que contienen el encabezado 'Por alcohol'. Son 19,271 ocurrencias, de un total de celdas."
   ]
  },
  {
   "cell_type": "markdown",
   "metadata": {},
   "source": [
    "#Which roads \"appear to be\" the top 10 most dangerous roads of Monterrey Metropolitan area?"
   ]
  },
  {
   "cell_type": "markdown",
   "metadata": {},
   "source": [
    "##A partir de esta celda, estoy repasando las preguntas del exámen a manera de práctica."
   ]
  },
  {
   "cell_type": "markdown",
   "metadata": {},
   "source": [
    "#Cuáles son las calles que parecen ser las 10 más peligrosas de Monterrey y su área Metropolitana ?"
   ]
  },
  {
   "cell_type": "code",
   "execution_count": 6,
   "metadata": {},
   "outputs": [
    {
     "data": {
      "text/plain": [
       "MORONES PRIETO      1729\n",
       "LAZARO CARDENAS     1279\n",
       "GONZALITOS          1229\n",
       "GARZA SADA          1215\n",
       "ALFONSO REYES       1153\n",
       "JOSE VASCONCELOS     964\n",
       "LEONES               891\n",
       "AV. LINCOLN          838\n",
       "CONSTITUCION         823\n",
       "LINCOLN              752\n",
       "Name: Calle, dtype: int64"
      ]
     },
     "execution_count": 6,
     "metadata": {},
     "output_type": "execute_result"
    }
   ],
   "source": [
    "tabla[\"Calle\"].value_counts()[0:10]"
   ]
  },
  {
   "cell_type": "code",
   "execution_count": 8,
   "metadata": {},
   "outputs": [],
   "source": [
    "%matplotlib inline"
   ]
  },
  {
   "cell_type": "markdown",
   "metadata": {},
   "source": [
    "#En esta celda, queremos hacer una gráfica por rangos de edades de las personas involucradas en los accidentes."
   ]
  },
  {
   "cell_type": "code",
   "execution_count": 10,
   "metadata": {
    "scrolled": true
   },
   "outputs": [
    {
     "data": {
      "text/plain": [
       "<matplotlib.axes._subplots.AxesSubplot at 0x1167ce940>"
      ]
     },
     "execution_count": 10,
     "metadata": {},
     "output_type": "execute_result"
    },
    {
     "data": {
      "image/png": "[encoded data removed]",
      "text/plain": [
       "<Figure size 432x288 with 1 Axes>"
      ]
     },
     "metadata": {
      "needs_background": "light"
     },
     "output_type": "display_data"
    }
   ],
   "source": [
    "pd.to_numeric(tabla[\"V1_Edad\"], errors=\"drop\").hist()"
   ]
  },
  {
   "cell_type": "markdown",
   "metadata": {},
   "source": [
    "#Sólo por curiosidad quise ver cuáles son los nombres de todas las calles en el archivo, ordenadas por ocurrencias."
   ]
  },
  {
   "cell_type": "code",
   "execution_count": 11,
   "metadata": {
    "scrolled": true
   },
   "outputs": [
    {
     "data": {
      "text/plain": [
       "MORONES PRIETO                             1729\n",
       "LAZARO CARDENAS                            1279\n",
       "GONZALITOS                                 1229\n",
       "GARZA SADA                                 1215\n",
       "ALFONSO REYES                              1153\n",
       "JOSE VASCONCELOS                            964\n",
       "LEONES                                      891\n",
       "AV. LINCOLN                                 838\n",
       "CONSTITUCION                                823\n",
       "LINCOLN                                     752\n",
       "FIDEL VELAZQUEZ                             752\n",
       "MADERO                                      706\n",
       "MIGUEL ALEMAN                               683\n",
       "RUIZ CORTINEZ                               602\n",
       "COLON                                       591\n",
       "REVOLUCION                                  545\n",
       "GOMEZ MORIN                                 507\n",
       "DIAZ ORDAZ                                  468\n",
       "UNIVERSIDAD                                 431\n",
       "RAUL SALINAS                                401\n",
       "CUAUHTEMOC                                  391\n",
       "AZTLAN                                      384\n",
       "BENITO JUAREZ                               350\n",
       "JUAREZ                                      345\n",
       "BERNARDO REYES                              342\n",
       "BLVD HEBERTO CASTILLO                       340\n",
       "VENUSTIANO CARRANZA                         336\n",
       "CALZADA DEL VALLE                           331\n",
       "INDUSTRIALES                                293\n",
       "INDUSTRIALES                                288\n",
       "                                           ... \n",
       "SIERRA ACARI                                  1\n",
       "JUSTO C DIAZ                                  1\n",
       "MURCIA                                        1\n",
       "SIERRA DE PICACHOS                            1\n",
       "CALLE 21                                      1\n",
       "MEQUITAL STA ROSA                             1\n",
       "H. RAMOS Y MOISES PORTALES DE STA ROSA        1\n",
       "PROL PUERTA DEL SOL                           1\n",
       "ENTRONQUE A SALINAS                           1\n",
       "Montealbán                                    1\n",
       "ANTONIO GONZALEZ                              1\n",
       "SANZIBAR                                      1\n",
       "DIAGONAL LA LUZ                               1\n",
       "DIEGO DE TRIANA Y AVE. FUNDADORES             1\n",
       "LATERAL DE UNIVERSIDAD                        1\n",
       "VIA ZETA                                      1\n",
       "dr alexander fleming                          1\n",
       "MATIAS CASAS                                  1\n",
       "INDUSTRIAL                                    1\n",
       "DE LOS RUISEÑORES                             1\n",
       "VEINTE DE NOVIEMBRE                           1\n",
       "Vía Granada                                   1\n",
       "AGUACATE                                      1\n",
       "                                              1\n",
       "PALOMO                                        1\n",
       "ARTICULO 27                                   1\n",
       "GRISELDA RUIZ                                 1\n",
       "MONTE CIMEJARON                               1\n",
       "ZACATENCO                                     1\n",
       "DR ARROYO                                     1\n",
       "Name: Calle, Length: 5614, dtype: int64"
      ]
     },
     "execution_count": 11,
     "metadata": {},
     "output_type": "execute_result"
    }
   ],
   "source": [
    "tabla[\"Calle\"].value_counts()"
   ]
  },
  {
   "cell_type": "markdown",
   "metadata": {},
   "source": [
    "##Para responder a la pregunta sobre cuáles son las posibilidades de que una persona haya tenido un accidente en la Av. Garza Sada y que en el dictamen aparezca el alcohol como una de las causas relacionadas:"
   ]
  },
  {
   "cell_type": "code",
   "execution_count": 17,
   "metadata": {},
   "outputs": [
    {
     "data": {
      "text/plain": [
       "No                                223\n",
       "Ebrio Completo                      3\n",
       "Evidente Estado de Alcoholismo      3\n",
       "Ebrio Incompleto                    1\n",
       "Name: V1_Dictamen, dtype: int64"
      ]
     },
     "execution_count": 17,
     "metadata": {},
     "output_type": "execute_result"
    }
   ],
   "source": [
    "tabla[tabla[\"Calle\"] == \"GARZA SADA\"][\"V1_Dictamen\"].value_counts()"
   ]
  },
  {
   "cell_type": "markdown",
   "metadata": {},
   "source": [
    "#Aquí por curiosidad quiero ver el status de la licencia de manejo:"
   ]
  },
  {
   "cell_type": "code",
   "execution_count": 20,
   "metadata": {},
   "outputs": [
    {
     "data": {
      "text/plain": [
       "Vigente                    41238\n",
       "SIN                         3229\n",
       "SD                          1240\n",
       "Otro                         930\n",
       "CON                          739\n",
       "Vencida                      507\n",
       "Vencida menos de un año      381\n",
       "Vencida más de un año        276\n",
       "NP                           230\n",
       "HUYO                          24\n",
       "peaton                         1\n",
       "Name: V1_Estatus Licencia, dtype: int64"
      ]
     },
     "execution_count": 20,
     "metadata": {},
     "output_type": "execute_result"
    }
   ],
   "source": [
    "tabla[\"V1_Estatus Licencia\"].value_counts()"
   ]
  },
  {
   "cell_type": "markdown",
   "metadata": {},
   "source": [
    "#En esta celda quiero ver los municipios registrados y el número de accidentes para cada uno:"
   ]
  },
  {
   "cell_type": "code",
   "execution_count": 21,
   "metadata": {},
   "outputs": [
    {
     "data": {
      "text/plain": [
       "Monterrey         20961\n",
       "San Pedro          8242\n",
       "San Nicolás        6953\n",
       "Apodaca            4269\n",
       "García             4046\n",
       "Guadalupe          3893\n",
       "Santa Catarina     3595\n",
       "Escobedo           3049\n",
       "                      1\n",
       "Name: Ciudad, dtype: int64"
      ]
     },
     "execution_count": 21,
     "metadata": {},
     "output_type": "execute_result"
    }
   ],
   "source": [
    "tabla[\"Ciudad\"].value_counts()"
   ]
  },
  {
   "cell_type": "markdown",
   "metadata": {},
   "source": [
    "#Quiero hacer una gráfica con las ocurrencias"
   ]
  },
  {
   "cell_type": "code",
   "execution_count": 3,
   "metadata": {},
   "outputs": [
    {
     "data": {
      "image/png": "[encoded data removed]",
      "text/plain": [
       "<Figure size 432x288 with 1 Axes>"
      ]
     },
     "metadata": {
      "needs_background": "light"
     },
     "output_type": "display_data"
    }
   ],
   "source": [
    "import numpy as np\n",
    "import matplotlib.pyplot as plt\n",
    "\n",
    "ciudad = ['Monterrey', 'San Pedro', 'San Nicolas', 'Apodaca', 'Garcia', 'Guadalupe', 'Santa Catarina', 'Escobedo']\n",
    "frequencia = [20961, 8242, 6953, 4269, 4046, 3893, 3595, 3049 ]\n",
    "\n",
    "pos = np.arange(len(ciudad))\n",
    "width = 0.7     # gives histogram aspect to the bar diagram\n",
    "\n",
    "ax = plt.axes()\n",
    "ax.set_xticks(pos)\n",
    "ax.set_xticklabels(ciudad)\n",
    "plt.xticks(rotation=90)\n",
    "plt.bar(pos, frequencia, width, color='c')\n",
    "plt.show()"
   ]
  },
  {
   "cell_type": "code",
   "execution_count": null,
   "metadata": {},
   "outputs": [],
   "source": []
  }
 ],
 "metadata": {
  "kernelspec": {
   "display_name": "Python 3",
   "language": "python",
   "name": "python3"
  },
  "language_info": {
   "codemirror_mode": {
    "name": "ipython",
    "version": 3
   },
   "file_extension": ".py",
   "mimetype": "text/x-python",
   "name": "python",
   "nbconvert_exporter": "python",
   "pygments_lexer": "ipython3",
   "version": "3.7.0"
  }
 },
 "nbformat": 4,
 "nbformat_minor": 2
}
